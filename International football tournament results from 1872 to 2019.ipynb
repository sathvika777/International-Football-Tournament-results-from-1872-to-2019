{
 "cells": [
  {
   "cell_type": "code",
   "execution_count": 40,
   "metadata": {},
   "outputs": [],
   "source": [
    "import numpy as np\n",
    "import pandas as pd\n",
    "import matplotlib.pyplot as plt\n",
    "result=pd.read_csv(r\"C:\\Users\\sowmya velagapuri\\Desktop\\dataset.zip\")"
   ]
  },
  {
   "cell_type": "code",
   "execution_count": 41,
   "metadata": {},
   "outputs": [
    {
     "data": {
      "text/plain": [
       "(40945, 9)"
      ]
     },
     "execution_count": 41,
     "metadata": {},
     "output_type": "execute_result"
    }
   ],
   "source": [
    "result.shape"
   ]
  },
  {
   "cell_type": "code",
   "execution_count": 42,
   "metadata": {},
   "outputs": [
    {
     "data": {
      "text/html": [
       "<div>\n",
       "<style scoped>\n",
       "    .dataframe tbody tr th:only-of-type {\n",
       "        vertical-align: middle;\n",
       "    }\n",
       "\n",
       "    .dataframe tbody tr th {\n",
       "        vertical-align: top;\n",
       "    }\n",
       "\n",
       "    .dataframe thead th {\n",
       "        text-align: right;\n",
       "    }\n",
       "</style>\n",
       "<table border=\"1\" class=\"dataframe\">\n",
       "  <thead>\n",
       "    <tr style=\"text-align: right;\">\n",
       "      <th></th>\n",
       "      <th>date</th>\n",
       "      <th>home_team</th>\n",
       "      <th>away_team</th>\n",
       "      <th>home_score</th>\n",
       "      <th>away_score</th>\n",
       "      <th>tournament</th>\n",
       "      <th>city</th>\n",
       "      <th>country</th>\n",
       "      <th>neutral</th>\n",
       "    </tr>\n",
       "  </thead>\n",
       "  <tbody>\n",
       "    <tr>\n",
       "      <th>0</th>\n",
       "      <td>1872-11-30</td>\n",
       "      <td>Scotland</td>\n",
       "      <td>England</td>\n",
       "      <td>0</td>\n",
       "      <td>0</td>\n",
       "      <td>Friendly</td>\n",
       "      <td>Glasgow</td>\n",
       "      <td>Scotland</td>\n",
       "      <td>False</td>\n",
       "    </tr>\n",
       "    <tr>\n",
       "      <th>1</th>\n",
       "      <td>1873-03-08</td>\n",
       "      <td>England</td>\n",
       "      <td>Scotland</td>\n",
       "      <td>4</td>\n",
       "      <td>2</td>\n",
       "      <td>Friendly</td>\n",
       "      <td>London</td>\n",
       "      <td>England</td>\n",
       "      <td>False</td>\n",
       "    </tr>\n",
       "    <tr>\n",
       "      <th>2</th>\n",
       "      <td>1874-03-07</td>\n",
       "      <td>Scotland</td>\n",
       "      <td>England</td>\n",
       "      <td>2</td>\n",
       "      <td>1</td>\n",
       "      <td>Friendly</td>\n",
       "      <td>Glasgow</td>\n",
       "      <td>Scotland</td>\n",
       "      <td>False</td>\n",
       "    </tr>\n",
       "    <tr>\n",
       "      <th>3</th>\n",
       "      <td>1875-03-06</td>\n",
       "      <td>England</td>\n",
       "      <td>Scotland</td>\n",
       "      <td>2</td>\n",
       "      <td>2</td>\n",
       "      <td>Friendly</td>\n",
       "      <td>London</td>\n",
       "      <td>England</td>\n",
       "      <td>False</td>\n",
       "    </tr>\n",
       "    <tr>\n",
       "      <th>4</th>\n",
       "      <td>1876-03-04</td>\n",
       "      <td>Scotland</td>\n",
       "      <td>England</td>\n",
       "      <td>3</td>\n",
       "      <td>0</td>\n",
       "      <td>Friendly</td>\n",
       "      <td>Glasgow</td>\n",
       "      <td>Scotland</td>\n",
       "      <td>False</td>\n",
       "    </tr>\n",
       "    <tr>\n",
       "      <th>...</th>\n",
       "      <td>...</td>\n",
       "      <td>...</td>\n",
       "      <td>...</td>\n",
       "      <td>...</td>\n",
       "      <td>...</td>\n",
       "      <td>...</td>\n",
       "      <td>...</td>\n",
       "      <td>...</td>\n",
       "      <td>...</td>\n",
       "    </tr>\n",
       "    <tr>\n",
       "      <th>40940</th>\n",
       "      <td>2019-09-10</td>\n",
       "      <td>France</td>\n",
       "      <td>Andorra</td>\n",
       "      <td>3</td>\n",
       "      <td>0</td>\n",
       "      <td>UEFA Euro qualification</td>\n",
       "      <td>Paris</td>\n",
       "      <td>France</td>\n",
       "      <td>False</td>\n",
       "    </tr>\n",
       "    <tr>\n",
       "      <th>40941</th>\n",
       "      <td>2019-09-10</td>\n",
       "      <td>Moldova</td>\n",
       "      <td>Turkey</td>\n",
       "      <td>0</td>\n",
       "      <td>4</td>\n",
       "      <td>UEFA Euro qualification</td>\n",
       "      <td>Chișinău</td>\n",
       "      <td>Moldova</td>\n",
       "      <td>False</td>\n",
       "    </tr>\n",
       "    <tr>\n",
       "      <th>40942</th>\n",
       "      <td>2019-09-18</td>\n",
       "      <td>DR Congo</td>\n",
       "      <td>Rwanda</td>\n",
       "      <td>2</td>\n",
       "      <td>3</td>\n",
       "      <td>Friendly</td>\n",
       "      <td>Kinshasa</td>\n",
       "      <td>DR Congo</td>\n",
       "      <td>True</td>\n",
       "    </tr>\n",
       "    <tr>\n",
       "      <th>40943</th>\n",
       "      <td>2019-09-29</td>\n",
       "      <td>Bangladesh</td>\n",
       "      <td>Bhutan</td>\n",
       "      <td>4</td>\n",
       "      <td>1</td>\n",
       "      <td>Friendly</td>\n",
       "      <td>Dhaka</td>\n",
       "      <td>Bangladesh</td>\n",
       "      <td>False</td>\n",
       "    </tr>\n",
       "    <tr>\n",
       "      <th>40944</th>\n",
       "      <td>2019-09-30</td>\n",
       "      <td>Botswana</td>\n",
       "      <td>Liberia</td>\n",
       "      <td>0</td>\n",
       "      <td>0</td>\n",
       "      <td>Friendly</td>\n",
       "      <td>Gaborone</td>\n",
       "      <td>Botswana</td>\n",
       "      <td>False</td>\n",
       "    </tr>\n",
       "  </tbody>\n",
       "</table>\n",
       "<p>40945 rows × 9 columns</p>\n",
       "</div>"
      ],
      "text/plain": [
       "             date   home_team away_team  home_score  away_score  \\\n",
       "0      1872-11-30    Scotland   England           0           0   \n",
       "1      1873-03-08     England  Scotland           4           2   \n",
       "2      1874-03-07    Scotland   England           2           1   \n",
       "3      1875-03-06     England  Scotland           2           2   \n",
       "4      1876-03-04    Scotland   England           3           0   \n",
       "...           ...         ...       ...         ...         ...   \n",
       "40940  2019-09-10      France   Andorra           3           0   \n",
       "40941  2019-09-10     Moldova    Turkey           0           4   \n",
       "40942  2019-09-18    DR Congo    Rwanda           2           3   \n",
       "40943  2019-09-29  Bangladesh    Bhutan           4           1   \n",
       "40944  2019-09-30    Botswana   Liberia           0           0   \n",
       "\n",
       "                    tournament      city     country  neutral  \n",
       "0                     Friendly   Glasgow    Scotland    False  \n",
       "1                     Friendly    London     England    False  \n",
       "2                     Friendly   Glasgow    Scotland    False  \n",
       "3                     Friendly    London     England    False  \n",
       "4                     Friendly   Glasgow    Scotland    False  \n",
       "...                        ...       ...         ...      ...  \n",
       "40940  UEFA Euro qualification     Paris      France    False  \n",
       "40941  UEFA Euro qualification  Chișinău     Moldova    False  \n",
       "40942                 Friendly  Kinshasa    DR Congo     True  \n",
       "40943                 Friendly     Dhaka  Bangladesh    False  \n",
       "40944                 Friendly  Gaborone    Botswana    False  \n",
       "\n",
       "[40945 rows x 9 columns]"
      ]
     },
     "execution_count": 42,
     "metadata": {},
     "output_type": "execute_result"
    }
   ],
   "source": [
    "result"
   ]
  },
  {
   "cell_type": "code",
   "execution_count": 20,
   "metadata": {},
   "outputs": [],
   "source": [
    "x=np.array([0,0,0,0,0])"
   ]
  },
  {
   "cell_type": "code",
   "execution_count": 21,
   "metadata": {
    "scrolled": true
   },
   "outputs": [
    {
     "name": "stderr",
     "output_type": "stream",
     "text": [
      "c:\\users\\sowmya velagapuri\\appdata\\local\\programs\\python\\python37-32\\lib\\site-packages\\ipykernel_launcher.py:2: FutureWarning: get_value is deprecated and will be removed in a future release. Please use .at[] or .iat[] accessors instead\n",
      "  \n",
      "c:\\users\\sowmya velagapuri\\appdata\\local\\programs\\python\\python37-32\\lib\\site-packages\\ipykernel_launcher.py:4: FutureWarning: get_value is deprecated and will be removed in a future release. Please use .at[] or .iat[] accessors instead\n",
      "  after removing the cwd from sys.path.\n",
      "c:\\users\\sowmya velagapuri\\appdata\\local\\programs\\python\\python37-32\\lib\\site-packages\\ipykernel_launcher.py:6: FutureWarning: get_value is deprecated and will be removed in a future release. Please use .at[] or .iat[] accessors instead\n",
      "  \n",
      "c:\\users\\sowmya velagapuri\\appdata\\local\\programs\\python\\python37-32\\lib\\site-packages\\ipykernel_launcher.py:8: FutureWarning: get_value is deprecated and will be removed in a future release. Please use .at[] or .iat[] accessors instead\n",
      "  \n"
     ]
    }
   ],
   "source": [
    "for i in range(len(result)):\n",
    "    if(result['country'].get_value(i)=='United States'):\n",
    "        x[0]+=1\n",
    "    elif(result['country'].get_value(i)=='France'):\n",
    "        x[1]+=1\n",
    "    elif(result['country'].get_value(i)=='England'):\n",
    "        x[2]+=1\n",
    "    elif(result['country'].get_value(i)=='Malaysia'):\n",
    "        x[3]+=1\n",
    "x[4]=len(result)-(x[0]+x[1]+x[2]+x[3])        "
   ]
  },
  {
   "cell_type": "code",
   "execution_count": 14,
   "metadata": {},
   "outputs": [
    {
     "data": {
      "text/plain": [
       "[1151, 803, 689, 645, 37657]"
      ]
     },
     "execution_count": 14,
     "metadata": {},
     "output_type": "execute_result"
    }
   ],
   "source": [
    "ls=[]\n",
    "for i in range(len(x)):\n",
    "    ls.append(x[i])\n",
    "ls   "
   ]
  },
  {
   "cell_type": "code",
   "execution_count": 22,
   "metadata": {},
   "outputs": [
    {
     "data": {
      "text/plain": [
       "[1151, 803, 689, 645, 37657]"
      ]
     },
     "execution_count": 22,
     "metadata": {},
     "output_type": "execute_result"
    },
    {
     "data": {
      "image/png": "[encoded data removed]",
      "text/plain": [
       "<Figure size 1440x720 with 1 Axes>"
      ]
     },
     "metadata": {
      "needs_background": "light"
     },
     "output_type": "display_data"
    }
   ],
   "source": [
    "content=['United States','France','England','Malaysia','Others']\n",
    "f,ax=plt.subplots(figsize=(20,10))\n",
    "result=plt.bar(content,ls,align=\"center\")\n",
    "plt.xticks(rotation = 90)\n",
    "result[0].set_color('b')\n",
    "result[1].set_color('r')\n",
    "result[2].set_color('y')\n",
    "result[3].set_color('g')\n",
    "result[4].set_color('k')\n",
    "plt.title('Number of tournaments conducted in a country')\n",
    "ls"
   ]
  },
  {
   "cell_type": "code",
   "execution_count": 28,
   "metadata": {},
   "outputs": [],
   "source": [
    "c=np.array([0,0,0,0,0])"
   ]
  },
  {
   "cell_type": "code",
   "execution_count": 29,
   "metadata": {},
   "outputs": [
    {
     "name": "stderr",
     "output_type": "stream",
     "text": [
      "c:\\users\\sowmya velagapuri\\appdata\\local\\programs\\python\\python37-32\\lib\\site-packages\\ipykernel_launcher.py:2: FutureWarning: get_value is deprecated and will be removed in a future release. Please use .at[] or .iat[] accessors instead\n",
      "  \n",
      "c:\\users\\sowmya velagapuri\\appdata\\local\\programs\\python\\python37-32\\lib\\site-packages\\ipykernel_launcher.py:4: FutureWarning: get_value is deprecated and will be removed in a future release. Please use .at[] or .iat[] accessors instead\n",
      "  after removing the cwd from sys.path.\n",
      "c:\\users\\sowmya velagapuri\\appdata\\local\\programs\\python\\python37-32\\lib\\site-packages\\ipykernel_launcher.py:6: FutureWarning: get_value is deprecated and will be removed in a future release. Please use .at[] or .iat[] accessors instead\n",
      "  \n",
      "c:\\users\\sowmya velagapuri\\appdata\\local\\programs\\python\\python37-32\\lib\\site-packages\\ipykernel_launcher.py:8: FutureWarning: get_value is deprecated and will be removed in a future release. Please use .at[] or .iat[] accessors instead\n",
      "  \n"
     ]
    },
    {
     "data": {
      "text/plain": [
       "[582, 438, 427, 393, 39105]"
      ]
     },
     "execution_count": 29,
     "metadata": {},
     "output_type": "execute_result"
    }
   ],
   "source": [
    "for i in range(len(result)):\n",
    "    if(result['city'].get_value(i)=='Kuala Lumpur'):\n",
    "        c[0]+=1\n",
    "    elif(result['city'].get_value(i)=='Doha'):\n",
    "        c[1]+=1\n",
    "    elif(result['city'].get_value(i)=='Bangkok'):\n",
    "        c[2]+=1\n",
    "    elif(result['city'].get_value(i)=='London'):\n",
    "        c[3]+=1\n",
    "c[4]=len(result)-(c[0]+c[1]+c[2]+c[3])\n",
    "ls3=[]\n",
    "for i in range(len(c)):\n",
    "    ls3.append(c[i])\n",
    "ls3             \n",
    "    "
   ]
  },
  {
   "cell_type": "code",
   "execution_count": 31,
   "metadata": {},
   "outputs": [
    {
     "data": {
      "text/plain": [
       "[582, 438, 427, 393, 39105]"
      ]
     },
     "execution_count": 31,
     "metadata": {},
     "output_type": "execute_result"
    },
    {
     "data": {
      "image/png": "[encoded data removed]",
      "text/plain": [
       "<Figure size 432x288 with 1 Axes>"
      ]
     },
     "metadata": {},
     "output_type": "display_data"
    }
   ],
   "source": [
    "content1=['Kuala Lumpur','Doha','Bangkok','London','Others']\n",
    "explode=(0.5,0.5,0.5,0.5,0.5)\n",
    "plt.pie(ls3,labels=content1,explode=explode)\n",
    "plt.title('Number of Host Cities')\n",
    "ls3"
   ]
  },
  {
   "cell_type": "code",
   "execution_count": 32,
   "metadata": {},
   "outputs": [
    {
     "name": "stderr",
     "output_type": "stream",
     "text": [
      "c:\\users\\sowmya velagapuri\\appdata\\local\\programs\\python\\python37-32\\lib\\site-packages\\ipykernel_launcher.py:3: FutureWarning: get_value is deprecated and will be removed in a future release. Please use .at[] or .iat[] accessors instead\n",
      "  This is separate from the ipykernel package so we can avoid doing imports until\n",
      "c:\\users\\sowmya velagapuri\\appdata\\local\\programs\\python\\python37-32\\lib\\site-packages\\ipykernel_launcher.py:5: FutureWarning: get_value is deprecated and will be removed in a future release. Please use .at[] or .iat[] accessors instead\n",
      "  \"\"\"\n",
      "c:\\users\\sowmya velagapuri\\appdata\\local\\programs\\python\\python37-32\\lib\\site-packages\\ipykernel_launcher.py:7: FutureWarning: get_value is deprecated and will be removed in a future release. Please use .at[] or .iat[] accessors instead\n",
      "  import sys\n",
      "c:\\users\\sowmya velagapuri\\appdata\\local\\programs\\python\\python37-32\\lib\\site-packages\\ipykernel_launcher.py:9: FutureWarning: get_value is deprecated and will be removed in a future release. Please use .at[] or .iat[] accessors instead\n",
      "  if __name__ == '__main__':\n"
     ]
    },
    {
     "data": {
      "text/plain": [
       "[565, 547, 510, 502, 38821]"
      ]
     },
     "execution_count": 32,
     "metadata": {},
     "output_type": "execute_result"
    }
   ],
   "source": [
    "h=np.array([0,0,0,0,0])\n",
    "for i in range(len(result)):\n",
    "    if(result['home_team'].get_value(i)=='Brazil'):\n",
    "        h[0]+=1\n",
    "    elif(result['home_team'].get_value(i)=='Argentina'):\n",
    "        h[1]+=1\n",
    "    elif(result['home_team'].get_value(i)=='Mexico'):\n",
    "        h[2]+=1\n",
    "    elif(result['home_team'].get_value(i)=='Germany'):\n",
    "        h[3]+=1\n",
    "h[4]=len(result)-(h[0]+h[1]+h[2]+h[3])\n",
    "ls4=[]\n",
    "for i in range(len(h)):\n",
    "    ls4.append(h[i])\n",
    "ls4    "
   ]
  },
  {
   "cell_type": "code",
   "execution_count": 33,
   "metadata": {},
   "outputs": [
    {
     "data": {
      "image/png": "[encoded data removed]",
      "text/plain": [
       "<Figure size 432x288 with 1 Axes>"
      ]
     },
     "metadata": {
      "needs_background": "light"
     },
     "output_type": "display_data"
    }
   ],
   "source": [
    "content2=['Brazil','Argentina','Mexico','Germany','others']\n",
    "plt.plot(content2,ls4,color='green',linestyle='dashed',linewidth=3,marker='o',markerfacecolor='blue',markersize=12)\n",
    "plt.xlabel('home teams')\n",
    "plt.ylabel('frequency')\n",
    "plt.title('Home Teams')\n",
    "plt.show()"
   ]
  },
  {
   "cell_type": "code",
   "execution_count": 35,
   "metadata": {},
   "outputs": [
    {
     "name": "stderr",
     "output_type": "stream",
     "text": [
      "c:\\users\\sowmya velagapuri\\appdata\\local\\programs\\python\\python37-32\\lib\\site-packages\\ipykernel_launcher.py:3: FutureWarning: get_value is deprecated and will be removed in a future release. Please use .at[] or .iat[] accessors instead\n",
      "  This is separate from the ipykernel package so we can avoid doing imports until\n",
      "c:\\users\\sowmya velagapuri\\appdata\\local\\programs\\python\\python37-32\\lib\\site-packages\\ipykernel_launcher.py:5: FutureWarning: get_value is deprecated and will be removed in a future release. Please use .at[] or .iat[] accessors instead\n",
      "  \"\"\"\n",
      "c:\\users\\sowmya velagapuri\\appdata\\local\\programs\\python\\python37-32\\lib\\site-packages\\ipykernel_launcher.py:7: FutureWarning: get_value is deprecated and will be removed in a future release. Please use .at[] or .iat[] accessors instead\n",
      "  import sys\n",
      "c:\\users\\sowmya velagapuri\\appdata\\local\\programs\\python\\python37-32\\lib\\site-packages\\ipykernel_launcher.py:9: FutureWarning: get_value is deprecated and will be removed in a future release. Please use .at[] or .iat[] accessors instead\n",
      "  if __name__ == '__main__':\n"
     ]
    },
    {
     "data": {
      "text/plain": [
       "[538, 528, 38901, 505, 473]"
      ]
     },
     "execution_count": 35,
     "metadata": {},
     "output_type": "execute_result"
    }
   ],
   "source": [
    "aw=np.array([0,0,0,0,0])\n",
    "for i in range(len(result)):\n",
    "    if(result['away_team'].get_value(i)=='Uruguay'):\n",
    "        aw[0]+=1\n",
    "    elif(result['away_team'].get_value(i)=='Sweden'):\n",
    "        aw[1]+=1\n",
    "    elif(result['away_team'].get_value(i)=='England'):\n",
    "        aw[3]+=1\n",
    "    elif(result['away_team'].get_value(i)=='Hungary'):\n",
    "        aw[4]+=1\n",
    "aw[2]=len(result)-(aw[0]+aw[1]+aw[4]+aw[3])\n",
    "ls5=[]\n",
    "for i in range(len(aw)):\n",
    "    ls5.append(aw[i])\n",
    "ls5    \n",
    "        "
   ]
  },
  {
   "cell_type": "code",
   "execution_count": 36,
   "metadata": {},
   "outputs": [
    {
     "data": {
      "image/png": "[encoded data removed]",
      "text/plain": [
       "<Figure size 432x288 with 1 Axes>"
      ]
     },
     "metadata": {
      "needs_background": "light"
     },
     "output_type": "display_data"
    }
   ],
   "source": [
    "content3=['Uruguay','Sweden','Others','England','Hungary']\n",
    "plt.title('Away Teams')\n",
    "plt.xlabel('away teams')\n",
    "plt.ylabel('frequency')\n",
    "plt.scatter(content3,ls5,label=\"stars\",color=\"blue\",marker=\"*\",s=30)\n",
    "plt.legend()\n",
    "plt.show()"
   ]
  },
  {
   "cell_type": "code",
   "execution_count": 37,
   "metadata": {},
   "outputs": [
    {
     "name": "stderr",
     "output_type": "stream",
     "text": [
      "c:\\users\\sowmya velagapuri\\appdata\\local\\programs\\python\\python37-32\\lib\\site-packages\\ipykernel_launcher.py:3: FutureWarning: get_value is deprecated and will be removed in a future release. Please use .at[] or .iat[] accessors instead\n",
      "  This is separate from the ipykernel package so we can avoid doing imports until\n",
      "c:\\users\\sowmya velagapuri\\appdata\\local\\programs\\python\\python37-32\\lib\\site-packages\\ipykernel_launcher.py:5: FutureWarning: get_value is deprecated and will be removed in a future release. Please use .at[] or .iat[] accessors instead\n",
      "  \"\"\"\n",
      "c:\\users\\sowmya velagapuri\\appdata\\local\\programs\\python\\python37-32\\lib\\site-packages\\ipykernel_launcher.py:7: FutureWarning: get_value is deprecated and will be removed in a future release. Please use .at[] or .iat[] accessors instead\n",
      "  import sys\n",
      "c:\\users\\sowmya velagapuri\\appdata\\local\\programs\\python\\python37-32\\lib\\site-packages\\ipykernel_launcher.py:9: FutureWarning: get_value is deprecated and will be removed in a future release. Please use .at[] or .iat[] accessors instead\n",
      "  if __name__ == '__main__':\n"
     ]
    },
    {
     "data": {
      "text/plain": [
       "[21936, 13867, 2490, 1831]"
      ]
     },
     "execution_count": 37,
     "metadata": {},
     "output_type": "execute_result"
    }
   ],
   "source": [
    "e=np.array([0,0,0,0])\n",
    "for i in range(len(result)):\n",
    "    if(result['home_score'].get_value(i)>=0.0 and result['home_score'].get_value(i)<1.55):\n",
    "        e[0]+=1\n",
    "    elif(result['home_score'].get_value(i)>=1.55 and result['home_score'].get_value(i)<3.10):\n",
    "        e[1]+=1\n",
    "    elif(result['home_score'].get_value(i)>=3.10 and result['home_score'].get_value(i)<4.65):\n",
    "        e[2]+=1\n",
    "    elif(result['home_score'].get_value(i)>=4.65 and result['home_score'].get_value(i)<6.20):\n",
    "        e[3]+=1\n",
    "ls6=[]\n",
    "for i in range(len(e)):\n",
    "    ls6.append(e[i])\n",
    "ls6    "
   ]
  },
  {
   "cell_type": "code",
   "execution_count": 38,
   "metadata": {},
   "outputs": [
    {
     "data": {
      "text/plain": [
       "[21936, 13867, 2490, 1831]"
      ]
     },
     "execution_count": 38,
     "metadata": {},
     "output_type": "execute_result"
    },
    {
     "data": {
      "image/png": "[encoded data removed]",
      "text/plain": [
       "<Figure size 1440x720 with 1 Axes>"
      ]
     },
     "metadata": {
      "needs_background": "light"
     },
     "output_type": "display_data"
    }
   ],
   "source": [
    "content4=['0.0 to 1.55','1.55 to 3.10','3.10 to 4.65','4.65 to 6.20']\n",
    "f,ax=plt.subplots(figsize=(20,10))\n",
    "plt.xticks(rotation=45)\n",
    "result=plt.bar(content4,ls6,align = \"center\")\n",
    "result[0].set_color('g')\n",
    "result[1].set_color('r')\n",
    "result[2].set_color('b')\n",
    "result[3].set_color('y')\n",
    "plt.title(\"Home Scores\")\n",
    "plt.xlabel(\"home scores\")\n",
    "plt.ylabel(\"frequency\")\n",
    "ls6"
   ]
  },
  {
   "cell_type": "code",
   "execution_count": 44,
   "metadata": {},
   "outputs": [
    {
     "name": "stderr",
     "output_type": "stream",
     "text": [
      "c:\\users\\sowmya velagapuri\\appdata\\local\\programs\\python\\python37-32\\lib\\site-packages\\ipykernel_launcher.py:3: FutureWarning: get_value is deprecated and will be removed in a future release. Please use .at[] or .iat[] accessors instead\n",
      "  This is separate from the ipykernel package so we can avoid doing imports until\n",
      "c:\\users\\sowmya velagapuri\\appdata\\local\\programs\\python\\python37-32\\lib\\site-packages\\ipykernel_launcher.py:5: FutureWarning: get_value is deprecated and will be removed in a future release. Please use .at[] or .iat[] accessors instead\n",
      "  \"\"\"\n",
      "c:\\users\\sowmya velagapuri\\appdata\\local\\programs\\python\\python37-32\\lib\\site-packages\\ipykernel_launcher.py:7: FutureWarning: get_value is deprecated and will be removed in a future release. Please use .at[] or .iat[] accessors instead\n",
      "  import sys\n",
      "c:\\users\\sowmya velagapuri\\appdata\\local\\programs\\python\\python37-32\\lib\\site-packages\\ipykernel_launcher.py:9: FutureWarning: get_value is deprecated and will be removed in a future release. Please use .at[] or .iat[] accessors instead\n",
      "  if __name__ == '__main__':\n"
     ]
    },
    {
     "data": {
      "text/plain": [
       "[28399, 7108, 3062, 1274]"
      ]
     },
     "execution_count": 44,
     "metadata": {},
     "output_type": "execute_result"
    }
   ],
   "source": [
    "f=np.array([0,0,0,0])\n",
    "for i in range(len(result)):\n",
    "    if(result['away_score'].get_value(i)>=0.0 and result['away_score'].get_value(i)<1.05):\n",
    "        f[0]+=1\n",
    "    elif(result['away_score'].get_value(i)>=1.05 and result['away_score'].get_value(i)<2.10):\n",
    "        f[1]+=1\n",
    "    elif(result['away_score'].get_value(i)>=2.10 and result['away_score'].get_value(i)<3.15):\n",
    "        f[2]+=1\n",
    "    elif(result['away_score'].get_value(i)>=3.15 and result['away_score'].get_value(i)<4.20):\n",
    "        f[3]+=1\n",
    "ls7=[]\n",
    "for i in range(len(f)):\n",
    "    ls7.append(f[i])\n",
    "ls7    "
   ]
  },
  {
   "cell_type": "code",
   "execution_count": 45,
   "metadata": {},
   "outputs": [
    {
     "data": {
      "image/png": "[encoded data removed]",
      "text/plain": [
       "<Figure size 1440x720 with 1 Axes>"
      ]
     },
     "metadata": {
      "needs_background": "light"
     },
     "output_type": "display_data"
    }
   ],
   "source": [
    "content5=['0.0 to 1.05','1.05 to 2.10','2.10 to 3.15','3.15 to 4.20']\n",
    "f,ax=plt.subplots(figsize=(20,10))\n",
    "plt.xticks(rotation=45)\n",
    "result=plt.bar(content5,ls7,align = \"center\")\n",
    "result[0].set_color('g')\n",
    "result[1].set_color('g')\n",
    "result[2].set_color('g')\n",
    "result[3].set_color('g')\n",
    "plt.title(\"Away Scores\")\n",
    "plt.xlabel(\"away scores\")\n",
    "plt.ylabel(\"frequency\")\n",
    "plt.show()"
   ]
  },
  {
   "cell_type": "code",
   "execution_count": null,
   "metadata": {},
   "outputs": [],
   "source": []
  }
 ],
 "metadata": {
  "kernelspec": {
   "display_name": "Python 3",
   "language": "python",
   "name": "python3"
  },
  "language_info": {
   "codemirror_mode": {
    "name": "ipython",
    "version": 3
   },
   "file_extension": ".py",
   "mimetype": "text/x-python",
   "name": "python",
   "nbconvert_exporter": "python",
   "pygments_lexer": "ipython3",
   "version": "3.7.5"
  }
 },
 "nbformat": 4,
 "nbformat_minor": 2
}
